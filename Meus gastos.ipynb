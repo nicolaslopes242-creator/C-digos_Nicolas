{
 "cells": [
  {
   "cell_type": "markdown",
   "id": "f49f155b",
   "metadata": {},
   "source": [
    "###CLT"
   ]
  },
  {
   "cell_type": "code",
   "execution_count": 1,
   "id": "49070a85",
   "metadata": {},
   "outputs": [
    {
     "name": "stdout",
     "output_type": "stream",
     "text": [
      "o que vai sobrar é 1350\n"
     ]
    }
   ],
   "source": [
    "salario = 2750\n",
    "luz = 150\n",
    "gas = 120\n",
    "alimentos = 500\n",
    "internet = 150\n",
    "agua = 130\n",
    "casa =350\n",
    "total =1350\n",
    "total_gasto = luz+gas+alimentos+internet+agua+casa\n",
    "print(f\"o que vai sobrar é {salario-total_gasto}\")"
   ]
  }
 ],
 "metadata": {
  "kernelspec": {
   "display_name": "Python 3",
   "language": "python",
   "name": "python3"
  },
  "language_info": {
   "codemirror_mode": {
    "name": "ipython",
    "version": 3
   },
   "file_extension": ".py",
   "mimetype": "text/x-python",
   "name": "python",
   "nbconvert_exporter": "python",
   "pygments_lexer": "ipython3",
   "version": "3.13.2"
  }
 },
 "nbformat": 4,
 "nbformat_minor": 5
}
