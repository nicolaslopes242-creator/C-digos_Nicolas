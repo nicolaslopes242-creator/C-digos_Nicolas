{
 "cells": [
  {
   "cell_type": "markdown",
   "id": "6c085d48",
   "metadata": {},
   "source": [
    "### Lista de Exercícios Básicos de Manipulação de Arquivos CSV\n",
    "\n",
    "Aqui está uma lista de exercícios progressivos para praticar manipulação de arquivos CSV em Python."
   ]
  },
  {
   "cell_type": "markdown",
   "id": "7e788390",
   "metadata": {},
   "source": [
    "Exercício 1: Criando um arquivo CSV simples\n",
    "\n",
    "Crie um arquivo chamado alunos.csv com os seguintes dados:\n",
    "\n",
    "Nome,Idade,Nota\n",
    "\n",
    "\n",
    "Ana,17,8.5\n",
    "\n",
    "\n",
    "João,16,7.0\n",
    "\n",
    "\n",
    "Maria,18,9.0"
   ]
  },
  {
   "cell_type": "code",
   "execution_count": 85,
   "id": "8c149ced",
   "metadata": {},
   "outputs": [],
   "source": [
    "import csv"
   ]
  },
  {
   "cell_type": "code",
   "execution_count": 84,
   "id": "d74802d2",
   "metadata": {},
   "outputs": [],
   "source": [
    "dados= [\n",
    "    [\"nome\", \"idade\", \"Nota\"],\n",
    "    [\"Ana\", 17, \"8.5\"],\n",
    "    [\"João\", 16, \"7.0\"],\n",
    "    [\"Maria\", 18, \"9.0\"]\n",
    "]    \n",
    "\n",
    "# Abrimos o arquivo em modo escrita ('w'), com encoding e newline=''\n",
    "with open(\"alunos.csv\", \"w\", newline='', encoding=\"utf-8\") as arquivo:\n",
    "\n",
    "    escritor = csv.writer(arquivo)\n",
    "   \n",
    "    escritor.writerows(dados)\n"
   ]
  },
  {
   "cell_type": "markdown",
   "id": "1801190f",
   "metadata": {},
   "source": [
    "Exercício 2: Lendo um arquivo CSV\n",
    "\n",
    "Leia o arquivo alunos.csv e mostre todos os dados na tela."
   ]
  },
  {
   "cell_type": "code",
   "execution_count": 86,
   "id": "d9f2b6da",
   "metadata": {},
   "outputs": [
    {
     "name": "stdout",
     "output_type": "stream",
     "text": [
      "['nome', 'idade', 'Nota']\n",
      "['Ana', '17', '8.5']\n",
      "['João', '16', '7.0']\n",
      "['Maria', '18', '9.0']\n"
     ]
    }
   ],
   "source": [
    "with open(\"alunos.csv\", \"r\",  encoding=\"utf-8\") as arquivo:\n",
    "\n",
    "    leitor = csv.reader(arquivo)\n",
    "\n",
    "    for linha in leitor:\n",
    "        print(linha)"
   ]
  },
  {
   "cell_type": "markdown",
   "id": "1c230648",
   "metadata": {},
   "source": [
    "Exercício 3: Adicionando um novo aluno\n",
    "\n",
    "Peça ao usuário para digitar os dados de um novo aluno e adicione-o ao arquivo CSV."
   ]
  },
  {
   "cell_type": "code",
   "execution_count": 15,
   "id": "41891bb5",
   "metadata": {},
   "outputs": [],
   "source": [
    "nome = input(\"Qual seu nome ?\")\n",
    "idade = int(input(\"Qual sua idade ?\"))\n",
    "nota = float(input(\"Qual sua nota ?\"))\n",
    "\n",
    "with open(\"notas.csv\", \"a\", newline='', encoding= \"utf-8\") as arquivo:\n",
    "    escritor = csv.writer(arquivo)\n",
    "    escritor.writerow([nome, idade, nota])"
   ]
  },
  {
   "cell_type": "markdown",
   "id": "90ceb918",
   "metadata": {},
   "source": [
    "Exercício 4: Calculando a média das notas\n",
    "\n",
    "Calcule e mostre a média das notas de todos os alunos."
   ]
  },
  {
   "cell_type": "code",
   "execution_count": 97,
   "id": "319300b5",
   "metadata": {},
   "outputs": [],
   "source": [
    "import csv"
   ]
  },
  {
   "cell_type": "code",
   "execution_count": 91,
   "id": "121ec765",
   "metadata": {},
   "outputs": [
    {
     "ename": "StopIteration",
     "evalue": "",
     "output_type": "error",
     "traceback": [
      "\u001b[31m---------------------------------------------------------------------------\u001b[39m",
      "\u001b[31mStopIteration\u001b[39m                             Traceback (most recent call last)",
      "\u001b[36mCell\u001b[39m\u001b[36m \u001b[39m\u001b[32mIn[91]\u001b[39m\u001b[32m, line 4\u001b[39m\n\u001b[32m      2\u001b[39m notas = []\n\u001b[32m      3\u001b[39m leitor = csv.reader(arquivo)\n\u001b[32m----> \u001b[39m\u001b[32m4\u001b[39m \u001b[38;5;28;43mnext\u001b[39;49m\u001b[43m(\u001b[49m\u001b[43mleitor\u001b[49m\u001b[43m)\u001b[49m\n\u001b[32m      5\u001b[39m \u001b[38;5;28;01mfor\u001b[39;00m linha \u001b[38;5;129;01min\u001b[39;00m leitor:\n\u001b[32m      6\u001b[39m     \u001b[38;5;28mprint\u001b[39m(linha[\u001b[32m2\u001b[39m])\n",
      "\u001b[31mStopIteration\u001b[39m: "
     ]
    }
   ],
   "source": [
    "with open(\"notas.csv\", \"r\", encoding=\"utf-8\") as arquivo:\n",
    "    notas = []\n",
    "    leitor = csv.reader(arquivo)\n",
    "    next(leitor)\n",
    "    for linha in leitor:\n",
    "        print(linha[2])\n",
    "        nota = float(linha[2])\n",
    "        notas.append(nota)\n",
    "\n",
    "\n",
    "media = sum(notas) / len(notas)\n",
    "print(f\"Média das notas: {media:.2f}\")"
   ]
  },
  {
   "cell_type": "markdown",
   "id": "cb646ca2",
   "metadata": {},
   "source": [
    "Exercício 5: Filtrando alunos\n",
    "\n",
    "Mostre apenas os alunos com nota maior ou igual a 8.0."
   ]
  },
  {
   "cell_type": "code",
   "execution_count": 99,
   "id": "7b9a839d",
   "metadata": {},
   "outputs": [
    {
     "name": "stdout",
     "output_type": "stream",
     "text": [
      "8.5\n",
      "9.0\n"
     ]
    }
   ],
   "source": [
    "with open(\"alunos.csv\", \"r\", encoding=\"utf-8\") as arquivo:\n",
    "        leitor = csv.reader(arquivo)\n",
    "        next(leitor)\n",
    "        for linha in leitor:\n",
    "                nota = float(linha[2])\n",
    "                if nota >= 8.0:\n",
    "                        print(nota)"
   ]
  },
  {
   "cell_type": "markdown",
   "id": "56736dca",
   "metadata": {},
   "source": [
    "Exercício 6: Criando um dicionário de alunos\n",
    "\n",
    "Leia o arquivo CSV usando csv.DictReader e mostre os dados como dicionários."
   ]
  },
  {
   "cell_type": "code",
   "execution_count": 98,
   "id": "06fdea7c",
   "metadata": {},
   "outputs": [
    {
     "ename": "AttributeError",
     "evalue": "module 'csv' has no attribute 'Dictreader'",
     "output_type": "error",
     "traceback": [
      "\u001b[31m---------------------------------------------------------------------------\u001b[39m",
      "\u001b[31mAttributeError\u001b[39m                            Traceback (most recent call last)",
      "\u001b[36mCell\u001b[39m\u001b[36m \u001b[39m\u001b[32mIn[98]\u001b[39m\u001b[32m, line 5\u001b[39m\n\u001b[32m      1\u001b[39m \u001b[38;5;28;01mwith\u001b[39;00m \u001b[38;5;28mopen\u001b[39m(\u001b[33m\"\u001b[39m\u001b[33malunos.csv\u001b[39m\u001b[33m\"\u001b[39m, \u001b[33m\"\u001b[39m\u001b[33mr\u001b[39m\u001b[33m\"\u001b[39m,encoding=\u001b[33m\"\u001b[39m\u001b[33mutf8\u001b[39m\u001b[33m\"\u001b[39m) \u001b[38;5;28;01mas\u001b[39;00m arquivo:\n\u001b[32m----> \u001b[39m\u001b[32m5\u001b[39m     leitor = \u001b[43mcsv\u001b[49m\u001b[43m.\u001b[49m\u001b[43mDictreader\u001b[49m(arquivo)\n\u001b[32m      7\u001b[39m     \u001b[38;5;28;01mfor\u001b[39;00m linha \u001b[38;5;129;01min\u001b[39;00m leitor:\n\u001b[32m      8\u001b[39m         \u001b[38;5;28mprint\u001b[39m(linha)\n",
      "\u001b[31mAttributeError\u001b[39m: module 'csv' has no attribute 'Dictreader'"
     ]
    }
   ],
   "source": [
    "with open(\"alunos.csv\", \"r\",encoding=\"utf8\") as arquivo:\n",
    "\n",
    "\n",
    "\n",
    "    leitor = csv.Dictreader(arquivo)\n",
    "\n",
    "    for linha in leitor:\n",
    "        print(linha)\n",
    "\n"
   ]
  },
  {
   "cell_type": "markdown",
   "id": "3c05675b",
   "metadata": {},
   "source": [
    "Exercício 7: Atualizando notas\n",
    "\n",
    "Aumente em 1.0 a nota de todos os alunos e salve no arquivo alunos_atualizados.csv."
   ]
  },
  {
   "cell_type": "code",
   "execution_count": 95,
   "id": "4bd26755",
   "metadata": {},
   "outputs": [
    {
     "ename": "IndentationError",
     "evalue": "expected an indented block after 'with' statement on line 11 (149065603.py, line 12)",
     "output_type": "error",
     "traceback": [
      "  \u001b[36mCell\u001b[39m\u001b[36m \u001b[39m\u001b[32mIn[95]\u001b[39m\u001b[32m, line 12\u001b[39m\n\u001b[31m    \u001b[39m\u001b[31mescritor = csv.writer(arquivo_novo)\u001b[39m\n    ^\n\u001b[31mIndentationError\u001b[39m\u001b[31m:\u001b[39m expected an indented block after 'with' statement on line 11\n"
     ]
    }
   ],
   "source": [
    "with open(\"notas.csv\", \"r\", encoding=\"utf-8\") as arquivos:\n",
    "    notas_atualizadas = []\n",
    "    leitor = csv.reader(arquivo)\n",
    "    next(leitor)\n",
    "    for linha in leitor:\n",
    "        nota = float(linha[2])+1.0\n",
    "        notas_atualizadas.append([linha[0], linha[1], min(nota, 10.0)])\n",
    "\n",
    "print(notas_atualizadas)\n",
    "\n",
    "with open(\"notas_atualizadas.csv\", \"w\", enconding=\"utf-8\", newline=\"\") as arquivo_novo:\n",
    "escritor = csv.writer(arquivo_novo)\n",
    "escritor.writerow([\"nome\", \"idade\", \"Nota\"])\n",
    "escritor.writerows(notas_atualizadas)"
   ]
  },
  {
   "cell_type": "markdown",
   "id": "2987ecdb",
   "metadata": {},
   "source": [
    "Exercício 8: Contando alunos por idade\n",
    "\n",
    "Conte quantos alunos existem em cada idade e mostre o resultado."
   ]
  },
  {
   "cell_type": "code",
   "execution_count": null,
   "id": "35053a80",
   "metadata": {},
   "outputs": [],
   "source": []
  },
  {
   "cell_type": "markdown",
   "id": "7b168846",
   "metadata": {},
   "source": [
    "Exercício 9: Juntando arquivos CSV\n",
    "\n",
    "Crie um novo arquivo turma_completa.csv que combine os dados de alunos.csv e alunos_atualizados.csv (use a nota do arquivo atualizado)."
   ]
  },
  {
   "cell_type": "code",
   "execution_count": null,
   "id": "41d1d918",
   "metadata": {},
   "outputs": [],
   "source": []
  },
  {
   "cell_type": "markdown",
   "id": "4fba760c",
   "metadata": {},
   "source": [
    "### Desafio Final ! 🚨🚨🚨🚨🚨🚨\n",
    "\n",
    "Esse é só para as lendas 😎😎😎\n",
    "\n",
    "Exercício 10: Gerando relatório de desempenho\n",
    "\n",
    "Crie um programa que gera um novo arquivo relatorio.csv com informações agregadas:\n",
    "\n",
    "- Nome do aluno\n",
    "\n",
    "\n",
    "- Nota original\n",
    "\n",
    "\n",
    "- Situação (\"Aprovado\" se nota >= 7.0, \"Recuperação\" se == 5.0, \"Reprovado\" caso contrário)\n",
    "\n"
   ]
  },
  {
   "cell_type": "code",
   "execution_count": null,
   "id": "67bc0a14",
   "metadata": {},
   "outputs": [],
   "source": []
  }
 ],
 "metadata": {
  "kernelspec": {
   "display_name": "Python 3",
   "language": "python",
   "name": "python3"
  },
  "language_info": {
   "codemirror_mode": {
    "name": "ipython",
    "version": 3
   },
   "file_extension": ".py",
   "mimetype": "text/x-python",
   "name": "python",
   "nbconvert_exporter": "python",
   "pygments_lexer": "ipython3",
   "version": "3.13.2"
  }
 },
 "nbformat": 4,
 "nbformat_minor": 5
}
