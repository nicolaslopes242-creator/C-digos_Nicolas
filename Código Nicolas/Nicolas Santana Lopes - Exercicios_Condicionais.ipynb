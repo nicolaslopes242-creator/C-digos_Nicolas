{
 "cells": [
  {
   "cell_type": "markdown",
   "id": "633160a3",
   "metadata": {},
   "source": [
    "### 📝Lista de Exercícios: Condicionais IF/ELSE"
   ]
  },
  {
   "cell_type": "markdown",
   "id": "605d2a7e",
   "metadata": {},
   "source": [
    "Exercício 1 - Maioridade 🔞\n",
    "\n",
    "Crie um programa que pergunta a idade do usuário e diz se ele é maior ou menor de idade."
   ]
  },
  {
   "cell_type": "code",
   "execution_count": null,
   "id": "93ea230f",
   "metadata": {},
   "outputs": [
    {
     "name": "stdout",
     "output_type": "stream",
     "text": [
      "Menor de idade\n"
     ]
    }
   ],
   "source": [
    "idade = int(input(\"Qual a sua idade? \"))\n",
    "\n",
    "# Complete o código aqui\n",
    "if idade >= 19:\n",
    "    print('Maior de idade')\n",
    "elif idade == 18:\n",
    "    print('Parabéns você acabou de atingir a maior idade.')\n",
    "else:\n",
    "    print('Menor de idade')"
   ]
  },
  {
   "cell_type": "markdown",
   "id": "6e9528f5",
   "metadata": {},
   "source": [
    "Exercício 2 - Aprovação na Prova 🧠\n",
    "\n",
    "Faça um programa que pergunte a nota de um aluno (0 a 10) e diz se ele foi aprovado(nota >= 5) ou reprovado (nota <5)."
   ]
  },
  {
   "cell_type": "code",
   "execution_count": 38,
   "id": "4a9f8f8b",
   "metadata": {},
   "outputs": [
    {
     "name": "stdout",
     "output_type": "stream",
     "text": [
      "Reprovado\n"
     ]
    }
   ],
   "source": [
    "nota = float(input(\"Informe a sua nota de (0 a 10)\"))\n",
    "if nota >= 5:\n",
    "    print(\"Aprovado\")\n",
    "else:\n",
    "    print (\"Reprovado\")\n",
    "# Complete o código aqui\n"
   ]
  },
  {
   "cell_type": "markdown",
   "id": "9f8e9b92",
   "metadata": {},
   "source": [
    "Exercicio 3 - CNH 🚘🚙\n",
    "\n",
    " 1º - Peça ao usuário que digite a idade dele.\n",
    "\n",
    " 2º - Peça pra ele dizer se foi aprovado ou reprovado no curso de cnh.\n",
    "\n",
    " 3º - Use if e else para verificar se ele tem 18 anos ou mais e se foi aprovado.\n",
    "\n",
    " 4º - Se as condições do passo 3 estiverem certas, print(\"pode dirigir\").\n",
    " \n",
    " 5º - Se não print(\"vai andar a pé\")"
   ]
  },
  {
   "cell_type": "code",
   "execution_count": 63,
   "id": "bee9f043",
   "metadata": {},
   "outputs": [
    {
     "name": "stdout",
     "output_type": "stream",
     "text": [
      "Pode dirigir\n"
     ]
    }
   ],
   "source": [
    "### Seu código aqui\n",
    "idade = int(input(\"Qual a sua idade? \"))\n",
    "cnh = int (input(\"voce tem habilitaçao? (1 para sim/ 2 para nao)\"))\n",
    "if idade >= 18 and cnh == 1:\n",
    "    print(\"Pode dirigir\")\n",
    "\n",
    "else:\n",
    "    print(\"Não pode dirigir, vai ir a pé\")"
   ]
  },
  {
   "cell_type": "markdown",
   "id": "e9c60d12",
   "metadata": {},
   "source": [
    "Exercício 4 - Calculadora de Desconto. 💵 🤑\n",
    "\n",
    "Uma loja dá 10% de desconto para compras acima de R$ 100,00. Faça um programa que:\n",
    "\n",
    "1º - Pergunta o valor da compra.\n",
    "\n",
    "2º - Calcula o valor final com desconto (se aplicável).\n",
    "\n",
    "3º - Mostra o valor a pagar."
   ]
  },
  {
   "cell_type": "code",
   "execution_count": 90,
   "id": "5edc8855",
   "metadata": {},
   "outputs": [
    {
     "name": "stdout",
     "output_type": "stream",
     "text": [
      "Voçê teve 10% de desconto, o valor da compra é 90.0\n"
     ]
    }
   ],
   "source": [
    "### Seu código aqui\n",
    "valor_compra = float(input(\"Qual o valor da compra  ?\"))\n",
    "desconto = valor_compra * 0.10\n",
    "valor_final = valor_compra - desconto\n",
    "if valor_compra >=100:\n",
    "    print(f\"Voçê teve 10% de desconto, o valor da compra é {valor_final}\")\n",
    "else:\n",
    "    print(f\"Não tem desconto, o valor ficou {valor_final}\")\n"
   ]
  },
  {
   "cell_type": "markdown",
   "id": "ec96b43c",
   "metadata": {},
   "source": [
    "Exercício 5 - Classificação de Notas 🧑‍🎓\n",
    "\n",
    "Pergunte a nota de um aluno e dependendo da nota que ele informar, o classifique de acordo com as regras abaixo:\n",
    "\n",
    "Classifique a nota do aluno:\n",
    "\n",
    "- 9 até 10: \"Excelente\"\n",
    "\n",
    "- 7 até 8.9: \"Bom\"\n",
    "\n",
    "- 5 até 6.9: \"Regular\"\n",
    "\n",
    "- 0 até 4.9: \"Reprovado\"\n",
    "\n",
    "mostre para o aluno a classificação dele através de um print, exemplo print(\"Excelente\")."
   ]
  },
  {
   "cell_type": "code",
   "execution_count": 95,
   "id": "465c6812",
   "metadata": {},
   "outputs": [
    {
     "name": "stdout",
     "output_type": "stream",
     "text": [
      "excelente\n"
     ]
    }
   ],
   "source": [
    "nota = float (input(\"Qual a sua nota ?\"))\n",
    "\n",
    "if nota >=9 and nota <=10:\n",
    "    print(\"excelente\")\n",
    "elif nota >=7 and nota <= 8.9:\n",
    "    print(\"Bom \")\n",
    "elif nota >=5 and nota <= 6.9:\n",
    "    print(\"Regular\")\n",
    "else:\n",
    "    print(\"Reprovado\")"
   ]
  },
  {
   "cell_type": "markdown",
   "id": "251b0fa7",
   "metadata": {},
   "source": [
    "Exercício 6 - Acesso ao Sistema 🔑\n",
    "\n",
    "Crie um login simples:\n",
    "\n",
    "- usuario_correto = \"admin\"\n",
    "\n",
    "- senha_correta = \"1234\"\n",
    "\n",
    "**Peça para o usuário digitar primeiro o login e depois a senha, caso login e senha estejam corretos programa deve mostrar \"Acesso permitido\" se não \"Acesso negado\"**\n"
   ]
  },
  {
   "cell_type": "code",
   "execution_count": 97,
   "id": "7fcf16db",
   "metadata": {},
   "outputs": [
    {
     "name": "stdout",
     "output_type": "stream",
     "text": [
      "Acesso permitido, bem vindo ao sistemaNicolas\n"
     ]
    }
   ],
   "source": [
    "usuario_correto = \"Nicolas\"\n",
    "senha_correta = 1404\n",
    "\n",
    "login = input(\"Qual o seu login/usuario?\")\n",
    "senha = int(input(\"Digite a sua senha :?\"))\n",
    "\n",
    "if login == usuario_correto and senha ==senha_correta:\n",
    "    print(f\"Acesso permitido, bem vindo ao sistema{login}\")\n",
    "else:\n",
    "    print(\"Acesso negado\")"
   ]
  },
  {
   "cell_type": "markdown",
   "id": "46c27406",
   "metadata": {},
   "source": [
    "Exercício 7 - Maior Número 📉\n",
    "\n",
    "Peça 3 números e mostre qual é o maior deles."
   ]
  },
  {
   "cell_type": "code",
   "execution_count": 15,
   "id": "916439ff",
   "metadata": {},
   "outputs": [
    {
     "name": "stdout",
     "output_type": "stream",
     "text": [
      "O maior numero é 3\n"
     ]
    }
   ],
   "source": [
    "num1 = input(\"Digite o primeiro numero\")\n",
    "num2 = input(\"Digite o segundo numero\")\n",
    "num3 = input(\"Digite o terceiro numero\")\n",
    "maior = max(num1, num2, num3)\n",
    "print(f\"O maior numero é {maior}\")"
   ]
  },
  {
   "cell_type": "markdown",
   "id": "984fe0fe",
   "metadata": {},
   "source": [
    "Exercício 8 - Dia da Semana\n",
    "Peça um número de 1 a 7 e mostre o dia da semana correspondente: 📅\n",
    "\n",
    "- 1: Domingo\n",
    "\n",
    "- 2: Segunda\n",
    "\n",
    "- ... até 7: Sábado"
   ]
  },
  {
   "cell_type": "code",
   "execution_count": 10,
   "id": "f34c6fbf",
   "metadata": {},
   "outputs": [
    {
     "name": "stdout",
     "output_type": "stream",
     "text": [
      "Sabado\n"
     ]
    }
   ],
   "source": [
    "dia = int(input(\"Digite um numero de 1 a 7\"))\n",
    "if dia == 1:\n",
    "    print(\"Domingo\")\n",
    "elif dia == 2:\n",
    "    print(\"Sengunda-feira\")\n",
    "elif dia == 3:\n",
    "    print(\"Terça-feira\")\n",
    "elif dia == 4:\n",
    "    print(\"Quarta-feira\")\n",
    "elif dia == 5:\n",
    "    print(\"Quinta-feira\")\n",
    "elif dia == 6:\n",
    "    print(\"Sexta-feira\")\n",
    "elif dia == 7:\n",
    "    print(\"Sabado\")\n"
   ]
  },
  {
   "cell_type": "markdown",
   "id": "f1f760b7",
   "metadata": {},
   "source": [
    "Exercício 9 - Calculadora Simples 📏📐\n",
    "\n",
    "- Faça uma calculadora que:\n",
    "\n",
    "- Pede dois números\n",
    "\n",
    "- Pede a operação (+, -, *, /)\n",
    "\n",
    "- Dependendo da operação mostre o resultado.\n",
    "\n"
   ]
  },
  {
   "cell_type": "code",
   "execution_count": 25,
   "id": "95c6ce03",
   "metadata": {},
   "outputs": [
    {
     "name": "stdout",
     "output_type": "stream",
     "text": [
      "escolha a operação\n",
      "+ para adição\n",
      "- para subtração\n",
      "* para multiplicação \n",
      "/ para divisão\n",
      "O resultado da subtrção é: 5.0\n"
     ]
    }
   ],
   "source": [
    "num1 = float(input(\"Digite o primeiro numero: \"))\n",
    "num2 = float(input(\"Digite o segundo numero: \"))\n",
    "print(\"escolha a operação\")\n",
    "print(\"+ para adição\")\n",
    "print(\"- para subtração\")\n",
    "print(\"* para multiplicação \")\n",
    "print(\"/ para divisão\")\n",
    "operacao = input(\"Digite a operação: \")\n",
    "if operacao==\"+\":\n",
    "    resultado = num1 + num2\n",
    "    print(f\"O resultado da soma é: {resultado}\")\n",
    "elif operacao ==\"-\":\n",
    "    resultado = num1 - num2\n",
    "    print(f\"O resultado da subtrção é: {resultado}\")\n",
    "elif operacao ==\"*\":\n",
    "    resultado = num1 * num2\n",
    "    print(f\"O resultado da multiplicação é {resultado}\")\n",
    "elif operacao ==\"/\":\n",
    "   if num2 != 0:\n",
    "     resultado = num1 / num2\n",
    "     print(f\"O resultado da divisão é {resultado}\") \n",
    "else :\n",
    "    print(\"Erro: divisão por zero não é permitida!\")\n",
    " "
   ]
  },
  {
   "cell_type": "markdown",
   "id": "f39f6b73",
   "metadata": {},
   "source": [
    "Exercício 10 - Sistema de Multas 🚙🚘🧾\n",
    "\n",
    "\n",
    "- Velocidade máxima: 80 km/h 🚫\n",
    "\n",
    "- Até 80: \"Sem multa\"\n",
    "\n",
    "- 81-100: \"Multa leve\"\n",
    "\n",
    "- Acima de 100: \"Multa grave\""
   ]
  },
  {
   "cell_type": "code",
   "execution_count": 29,
   "id": "20fdc977",
   "metadata": {},
   "outputs": [
    {
     "name": "stdout",
     "output_type": "stream",
     "text": [
      "multa grave 🚫\n"
     ]
    }
   ],
   "source": [
    "velocidade = int (input(\"digite sua velocidade!\"))\n",
    "if velocidade <=80:\n",
    "    print(\"sem multas\")\n",
    "elif velocidade >=81 and  velocidade <= 100:\n",
    "    print(\"multa leve 🚫\")\n",
    "else:\n",
    "    print(\"multa grave 🚫\")"
   ]
  }
 ],
 "metadata": {
  "kernelspec": {
   "display_name": "Python 3",
   "language": "python",
   "name": "python3"
  },
  "language_info": {
   "codemirror_mode": {
    "name": "ipython",
    "version": 3
   },
   "file_extension": ".py",
   "mimetype": "text/x-python",
   "name": "python",
   "nbconvert_exporter": "python",
   "pygments_lexer": "ipython3",
   "version": "3.13.2"
  }
 },
 "nbformat": 4,
 "nbformat_minor": 5
}
