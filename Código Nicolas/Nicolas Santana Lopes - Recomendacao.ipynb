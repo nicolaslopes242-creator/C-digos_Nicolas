{
 "cells": [
  {
   "cell_type": "markdown",
   "id": "9e50aa6f",
   "metadata": {},
   "source": [
    "### Recomendação de Filmes\n",
    "\n",
    "Você vai criar um sistema de recomendação de filmes que pergunta ao usuário:\n",
    "\n",
    "Qual gênero de filme ele prefere (Ação, Comédia ou Terror).\n",
    "\n",
    "Como está seu humor hoje (Feliz, Neutro ou Estressado).\n",
    "\n",
    "Com base nessas respostas, o programa deve recomendar um filme diferente usando estruturas condicionais (if, elif, else).\n",
    "\n",
    "Regras de Recomendação:\n",
    "\n",
    "![image.png](attachment:image.png)\n",
    "\n",
    "\n",
    "Requisitos do Código:\n",
    "O programa deve perguntar o gênero e o humor.\n",
    "\n",
    "Se o usuário digitar uma opção inválida, o programa deve dizer: \"Opção inválida, tente novamente!\" e encerrar.\n",
    "\n",
    "Use if, elif e else para decidir qual filme recomendar.\n",
    "\n",
    "No final, mostre a recomendação em uma mensagem como:\n",
    "\n",
    "\"Com base no seu gênero preferido (Ação) e humor (Estressado), recomendamos: Duro de Matar!\"\n",
    "\n"
   ]
  },
  {
   "cell_type": "code",
   "execution_count": 8,
   "id": "4030ed8f",
   "metadata": {},
   "outputs": [
    {
     "name": "stdout",
     "output_type": "stream",
     "text": [
      "Com base na sua escolha, recomendamos: Superbad\n"
     ]
    }
   ],
   "source": [
    "genero = input(\"Qual o gênero de filme você prefere? (Ação, Comédia ou Terror)\")\n",
    "humor = input(\"Como está seu humor hoje ? (Feliz, Neutro ou Estressado)\")\n",
    "if genero == \"ação\" and humor == \"feliz\":\n",
    "    print(\"Com base na sua escolha, recomendamos: Homem-aranha\")\n",
    "elif genero == \"ação\" and humor == \"neutro\":\n",
    "    print(\"Com base na sua escolha, recomendamos: John Wick\")\n",
    "elif genero == \"ação\" and humor == \"estressado\":\n",
    "    print(\"Com base na sua escolha, recomendamos: Duro de matar\")\n",
    "elif genero == \"comédia\" and humor == \"feliz\":\n",
    "    print(\"Com base na sua escolha, recomendamos: Superbad\")\n",
    "elif genero == \"comédia\" and humor == \"neutro\":\n",
    "    print(\"Com base na sua escolha, recomendamos: Escola de Rock\")\n",
    "elif genero == \"comédia\" and humor == \"estressado\":\n",
    "    print(\"Com base na sua escolha, recomendamos: Se beber, não Case\")\n",
    "elif genero ==\"terror\" and humor == \"feliz\":\n",
    "    print(\"Com base na sua escolha, recomendamos: A noite do terror\")\n",
    "elif genero ==\"terror\" and humor == \"neutro\":\n",
    "    print(\"Com base na sua escolha, recomendamos: Invocação do mal\")\n",
    "elif genero == \"terror\" and humor == \"estressado\":\n",
    "    print(\"Com base na sua escolha, recomendamos: O iluminado\")\n",
    "\n"
   ]
  },
  {
   "attachments": {
    "image.png": {
     "image/png": "[encoded data removed]"
    }
   },
   "cell_type": "markdown",
   "id": "2d13d70a",
   "metadata": {},
   "source": [
    "### Recomenda Jogo\n",
    "\n",
    "Você vai criar um sistema de recomendação de jogos que pergunta ao usuário:\n",
    "\n",
    "Qual gênero de jogo ele mais gosta (FPS, RPG, Esportes ou Battle Royale).\n",
    "\n",
    "Quanto tempo ele tem para jogar (Curto: 1h, Médio: 2-3h, Longo: 4h+).\n",
    "\n",
    "Com base nessas respostas, o programa deve recomendar um jogo usando estruturas condicionais (if, elif, else).\n",
    "\n",
    "Regras de Recomendação:\n",
    "\n",
    "![image.png](attachment:image.png)\n",
    "\n",
    "Se o usuário digitar uma opção inválida, o programa deve dizer: \"Opção inválida, tente novamente!\" e encerrar.\n",
    "\n",
    "Use if, elif e else para decidir qual jogo recomendar.\n",
    "\n",
    "No final, mostre a recomendação em uma mensagem como:\n",
    "\n",
    "\"Baseado no seu gênero favorito (RPG) e tempo disponível (Longo), recomendamos: Elden Ring!\"\n",
    "\n",
    "Exemplo de Saída:\n",
    "=== Escolha o Seu Próximo Jogo ===  \n",
    "Qual seu gênero de jogo favorito? (FPS, RPG, Esportes, Battle Royale): RPG  \n",
    "Quanto tempo você tem para jogar? (Curto, Médio, Longo): Longo  \n",
    "\n",
    "Baseado no seu gênero favorito (RPG) e tempo disponível (Longo), recomendamos: Elden Ring!  \n",
    "Dicas:\n",
    "Use .lower() ou .upper() para evitar erros de digitação (ex: \"rpg\" ou \"RPG\").\n",
    "\n",
    "Verifique se as entradas são válidas antes de recomendar.\n",
    "\n",
    "Você pode adicionar uma mensagem extra como: \"Bom jogo! 🎮🔥\" no final.\n",
    "\n"
   ]
  },
  {
   "cell_type": "code",
   "execution_count": null,
   "id": "d43fd1da",
   "metadata": {},
   "outputs": [],
   "source": [
    "genero = input(\"Qual o seu genero de jogo favorito ? (FPS, RPG, Esportes, Battle Royale)\")\n",
    "tempo = input(\"Quanto tempo voçê costuma jogar ? (Curto, Médio, Longo)\")\n",
    "\n",
    "if gener == \"FPS\" and tempo == \"Curto\":\n",
    "    print(\"Com base na sua escolha, recomendamos: Valorant\")\n",
    "elif genero == \"FPS\" and tempo == \"Médio\":\n",
    "    print(\"Com base na sua escolha, recomendamos: Call of Duty W\")"
   ]
  }
 ],
 "metadata": {
  "kernelspec": {
   "display_name": "Python 3",
   "language": "python",
   "name": "python3"
  },
  "language_info": {
   "codemirror_mode": {
    "name": "ipython",
    "version": 3
   },
   "file_extension": ".py",
   "mimetype": "text/x-python",
   "name": "python",
   "nbconvert_exporter": "python",
   "pygments_lexer": "ipython3",
   "version": "3.13.2"
  }
 },
 "nbformat": 4,
 "nbformat_minor": 5
}
