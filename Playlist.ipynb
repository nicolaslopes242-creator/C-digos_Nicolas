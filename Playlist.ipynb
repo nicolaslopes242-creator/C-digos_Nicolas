{
 "cells": [
  {
   "cell_type": "markdown",
   "id": "9cd21ab2",
   "metadata": {},
   "source": [
    "### Minha playlist"
   ]
  },
  {
   "cell_type": "code",
   "execution_count": 4,
   "id": "739d33d5",
   "metadata": {},
   "outputs": [
    {
     "name": "stdout",
     "output_type": "stream",
     "text": [
      "De acordo com seu gosto musical essas foram as musicas que voçê adicionou\n",
      "['Fulminante', 'Camisa 10', 'Deixa alagar']\n"
     ]
    }
   ],
   "source": [
    "playlist = []\n",
    "\n",
    "for item in range(3) :\n",
    "    musicas = input(\"Quais musicas voçê quer colocar na sua playlist\")\n",
    "    playlist.append(musicas)\n",
    "print(\"De acordo com seu gosto musical essas foram as musicas que voçê adicionou\")\n",
    "print(playlist)    "
   ]
  }
 ],
 "metadata": {
  "kernelspec": {
   "display_name": "Python 3",
   "language": "python",
   "name": "python3"
  },
  "language_info": {
   "codemirror_mode": {
    "name": "ipython",
    "version": 3
   },
   "file_extension": ".py",
   "mimetype": "text/x-python",
   "name": "python",
   "nbconvert_exporter": "python",
   "pygments_lexer": "ipython3",
   "version": "3.13.2"
  }
 },
 "nbformat": 4,
 "nbformat_minor": 5
}
