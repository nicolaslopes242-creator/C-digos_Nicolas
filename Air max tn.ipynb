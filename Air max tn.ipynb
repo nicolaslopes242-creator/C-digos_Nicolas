{
 "cells": [
  {
   "cell_type": "code",
   "execution_count": 13,
   "id": "2877c031",
   "metadata": {},
   "outputs": [],
   "source": [
    "import pyautogui as aut \n"
   ]
  },
  {
   "cell_type": "code",
   "execution_count": 17,
   "id": "f9d235ef",
   "metadata": {},
   "outputs": [],
   "source": [
    "aut.mouseInfo()\n",
    "#Coordenadas do novo arquivo\n"
   ]
  }
 ],
 "metadata": {
  "kernelspec": {
   "display_name": "Python 3",
   "language": "python",
   "name": "python3"
  },
  "language_info": {
   "codemirror_mode": {
    "name": "ipython",
    "version": 3
   },
   "file_extension": ".py",
   "mimetype": "text/x-python",
   "name": "python",
   "nbconvert_exporter": "python",
   "pygments_lexer": "ipython3",
   "version": "3.13.2"
  }
 },
 "nbformat": 4,
 "nbformat_minor": 5
}
