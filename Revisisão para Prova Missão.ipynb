{
 "cells": [
  {
   "cell_type": "markdown",
   "id": "f445e552",
   "metadata": {},
   "source": [
    "### 🧪 Revisão de prova - Missão: Condicionais 🤖\n",
    "\n",
    "Você está sendo avaliado(a) em sua habilidade de tomar decisões automatizadas por meio de códigos. Em cada uma das atividades a seguir, use estruturas condicionais com sabedoria."
   ]
  },
  {
   "cell_type": "markdown",
   "id": "769337a0",
   "metadata": {},
   "source": [
    "### ⚖️ Desafio 01 - Avaliação de Desempenho na Agência 🧾 (Usando if, múltiplos elif e else)"
   ]
  },
  {
   "cell_type": "markdown",
   "id": "14f80018",
   "metadata": {},
   "source": [
    "O Sistema de Avaliação da Agência Central de Inteligência precisa classificar os agentes de acordo com sua nota final. Sua missão é automatizar esse processo."
   ]
  },
  {
   "cell_type": "markdown",
   "id": "89f6fff0",
   "metadata": {},
   "source": [
    "🎯 Objetivo:\n",
    "Solicitar o nome do agente e sua nota final (0 a 10).\n",
    "Exibir a classificação:"
   ]
  },
  {
   "cell_type": "markdown",
   "id": "234495dd",
   "metadata": {},
   "source": [
    "Solicitar o nome do agente e sua nota final (0 a 10).\n",
    "Exibir a classificação:\n",
    "\n",
    "Nota\tClassificação\n",
    "\n",
    "9.0 a 10.0\tExcelente 🏅\n",
    "\n",
    "7.0 a 8.9\tBom 👍\n",
    "\n",
    "5.0 a 6.9\tRegular ⚠️\n",
    "\n",
    "3.0 a 4.9\tRuim 🚫\n",
    "\n",
    "0.0 a 2.9\tCrítico 🚨\n",
    "Fora do intervalo\tNota inválida ❌\n"
   ]
  },
  {
   "cell_type": "markdown",
   "id": "41369ade",
   "metadata": {},
   "source": [
    "Exibir mensagem:\n",
    "\"Agente [NOME], sua classificação é: [classificação] (nota: [nota])\"\n"
   ]
  },
  {
   "cell_type": "markdown",
   "id": "bd552298",
   "metadata": {},
   "source": [
    "📦 Instruções Gerais\n",
    "\n",
    "Mantenha seu código indentado corretamente e com prints claros.\n",
    "Personalize a saída sempre que possível usando o nome do usuário.\n"
   ]
  },
  {
   "cell_type": "markdown",
   "id": "e540ea62",
   "metadata": {},
   "source": [
    "Boa sorte nas decisões lógicas, agente.\n",
    "A sua capacidade de condicionar pode alterar o curso do código.\n"
   ]
  },
  {
   "cell_type": "code",
   "execution_count": null,
   "id": "77ac96b4",
   "metadata": {},
   "outputs": [
    {
     "name": "stdout",
     "output_type": "stream",
     "text": [
      "Agente Nicolas, sua classificação é: Excelente 🥇 10.0\n"
     ]
    }
   ],
   "source": [
    "nome =  input(\"Digite seu nome:\")\n",
    "nota = float(input(\"Informe a sua nota de (0 a 10)\"))\n",
    "\n",
    "if nota >= 9 and nota <=10:\n",
    "    print(f\"Agente {nome}, sua classificação é: Excelente 🥇 {nota}\")\n",
    "# Verifica se a nota está entre 9 e 10 e classifica como Excelente\n",
    "elif nota >= 7 and nota <=8.9:\n",
    "    print(f\"Agente {nome}, sua classificação é: Bom {nota}\")\n",
    "# Verifica se a nota está entre 7 e 8.9 e classifica como bom\n",
    "elif nota >5.0 and nota <=6.9:\n",
    "    print(f\"Agente {nome}, sua classificação é: Regular {nota}\")\n",
    "# Verifica se a nota está entre 5.0 e 6.9 e classifica como regular\n",
    "elif nota >= 3.0 and nota <=4.9:\n",
    "    print(f\"Agente {nome}, sua classificação é: Ruim {nota}\")\n",
    "# Verifica se a nota está entre 3.0 e 4.9 e classifica como ruim\n",
    "elif nota >= 0.0 and nota <=2.9:\n",
    "    print(f\"Agente {nome}, sua classificação é: Critico {nota}\")\n",
    "# Verifica se a nota está entre 0.0 e 2.9 e classifica como critico\n",
    "else:\n",
    "    print(f\"Agente {nome}, sua classificação é: Fora do intervalo, nota inválida\")\n",
    "\n"
   ]
  }
 ],
 "metadata": {
  "kernelspec": {
   "display_name": "Python 3",
   "language": "python",
   "name": "python3"
  },
  "language_info": {
   "codemirror_mode": {
    "name": "ipython",
    "version": 3
   },
   "file_extension": ".py",
   "mimetype": "text/x-python",
   "name": "python",
   "nbconvert_exporter": "python",
   "pygments_lexer": "ipython3",
   "version": "3.13.2"
  }
 },
 "nbformat": 4,
 "nbformat_minor": 5
}
